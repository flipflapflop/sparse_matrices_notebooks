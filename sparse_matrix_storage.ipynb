{
 "cells": [
  {
   "cell_type": "markdown",
   "metadata": {},
   "source": [
    "# Sparse matrix storage"
   ]
  },
  {
   "cell_type": "code",
   "execution_count": 18,
   "metadata": {},
   "outputs": [
    {
     "data": {
      "text/plain": [
       "array([[ 1.,  2.,  0.,  0.,  5.],\n",
       "       [ 0.,  0., -3.,  4.,  0.],\n",
       "       [ 0., -2.,  0.,  0., -5.],\n",
       "       [-1.,  0.,  0., -4.,  0.],\n",
       "       [ 0.,  3.,  0.,  0.,  6.]])"
      ]
     },
     "execution_count": 18,
     "metadata": {},
     "output_type": "execute_result"
    }
   ],
   "source": [
    "import numpy as np\n",
    "\n",
    "np.array([\n",
    "    [1.0, 2.0, 0.0, 0.0, 5.0],\n",
    "    [0.0, 0.0, -3.0, 4.0, 0.0],\n",
    "    [0.0, -2.0, 0.0, 0.0, -5.0],\n",
    "    [-1.0, 0.0, 0.0, -4.0, 0.0],\n",
    "    [0.0, 3.0, 0.0, 0.0, 6.0]])"
   ]
  },
  {
   "cell_type": "markdown",
   "metadata": {},
   "source": [
    "# Coordinate format (COO)\n",
    "Using *0-based* indices"
   ]
  },
  {
   "cell_type": "code",
   "execution_count": 21,
   "metadata": {},
   "outputs": [],
   "source": [
    "row_idx = [3, 4, 0, 0, 4, 1, 3, 2, 2, 1, 0]\n",
    "col_idx = [0, 1, 1, 0, 4, 2, 3, 4, 1, 3, 4]\n",
    "val = [-1.0, 3.0, 2.0, 1.0, 6.0, -3.0, -4.0, -5.0, -2.0, 4.0, 5.0]"
   ]
  },
  {
   "cell_type": "code",
   "execution_count": 22,
   "metadata": {},
   "outputs": [
    {
     "data": {
      "text/plain": [
       "array([[ 1.,  2.,  0.,  0.,  5.],\n",
       "       [ 0.,  0., -3.,  4.,  0.],\n",
       "       [ 0., -2.,  0.,  0., -5.],\n",
       "       [-1.,  0.,  0., -4.,  0.],\n",
       "       [ 0.,  3.,  0.,  0.,  6.]])"
      ]
     },
     "execution_count": 22,
     "metadata": {},
     "output_type": "execute_result"
    }
   ],
   "source": [
    "from scipy.sparse import coo_matrix\n",
    "coo_matrix((val,(row_idx, col_idx))).toarray()"
   ]
  },
  {
   "cell_type": "markdown",
   "metadata": {},
   "source": [
    "# Compressed Sparse Column (CSC)"
   ]
  },
  {
   "cell_type": "code",
   "execution_count": 66,
   "metadata": {},
   "outputs": [],
   "source": [
    "row_idx = [0, 3, 0, 2, 4, 1, 1, 4, 0, 2, 4]\n",
    "col_ptr = [0, 2, 5, 6, 8, 11]\n",
    "val = [1.0, -1.0, 2.0, -2.0, 3.0, -3.0, 4.0, -4.0, 5.0, -5.0, 6.0]"
   ]
  },
  {
   "cell_type": "code",
   "execution_count": 67,
   "metadata": {},
   "outputs": [
    {
     "data": {
      "text/plain": [
       "array([[ 1.,  2.,  0.,  0.,  5.],\n",
       "       [ 0.,  0., -3.,  4.,  0.],\n",
       "       [ 0., -2.,  0.,  0., -5.],\n",
       "       [-1.,  0.,  0.,  0.,  0.],\n",
       "       [ 0.,  3.,  0., -4.,  6.]])"
      ]
     },
     "execution_count": 67,
     "metadata": {},
     "output_type": "execute_result"
    }
   ],
   "source": [
    "from scipy.sparse import csc_matrix\n",
    "csc_matrix((val,row_idx, col_ptr)).toarray()"
   ]
  },
  {
   "cell_type": "markdown",
   "metadata": {},
   "source": [
    "# Compressed Sparse Row (CSR)"
   ]
  },
  {
   "cell_type": "code",
   "execution_count": 68,
   "metadata": {},
   "outputs": [],
   "source": [
    "col_idx = [0, 1, 4, 2, 3, 1, 4, 0, 1, 3, 4]\n",
    "row_ptr = [0, 3, 5, 7, 8, 11]\n",
    "val = [1.0, 2.0, 5.0, -3.0, 4.0, -2.0, -5.0, -1.0, 3.0, -4.0, 6.0]"
   ]
  },
  {
   "cell_type": "code",
   "execution_count": 70,
   "metadata": {},
   "outputs": [
    {
     "data": {
      "text/plain": [
       "array([[ 1.,  2.,  0.,  0.,  5.],\n",
       "       [ 0.,  0., -3.,  4.,  0.],\n",
       "       [ 0., -2.,  0.,  0., -5.],\n",
       "       [-1.,  0.,  0.,  0.,  0.],\n",
       "       [ 0.,  3.,  0., -4.,  6.]])"
      ]
     },
     "execution_count": 70,
     "metadata": {},
     "output_type": "execute_result"
    }
   ],
   "source": [
    "from scipy.sparse import csr_matrix\n",
    "csr_matrix((val,col_idx, row_ptr)).toarray()"
   ]
  },
  {
   "cell_type": "code",
   "execution_count": null,
   "metadata": {},
   "outputs": [],
   "source": []
  }
 ],
 "metadata": {
  "kernelspec": {
   "display_name": "Python 2",
   "language": "python",
   "name": "python2"
  },
  "language_info": {
   "codemirror_mode": {
    "name": "ipython",
    "version": 2
   },
   "file_extension": ".py",
   "mimetype": "text/x-python",
   "name": "python",
   "nbconvert_exporter": "python",
   "pygments_lexer": "ipython2",
   "version": "2.7.14"
  }
 },
 "nbformat": 4,
 "nbformat_minor": 2
}
