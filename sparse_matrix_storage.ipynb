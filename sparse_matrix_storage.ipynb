{
 "cells": [
  {
   "cell_type": "markdown",
   "metadata": {},
   "source": [
    "# Sparse matrix storage"
   ]
  },
  {
   "cell_type": "code",
   "execution_count": 15,
   "metadata": {},
   "outputs": [
    {
     "name": "stdout",
     "output_type": "stream",
     "text": [
      "[[ 1.  2.  0.  0.  5.]\n",
      " [ 0.  0. -3.  4.  0.]\n",
      " [ 0. -2.  0.  0. -5.]\n",
      " [-1.  0.  0. -4.  0.]\n",
      " [ 0.  3.  0.  0.  6.]]\n"
     ]
    }
   ],
   "source": [
    "import numpy as np\n",
    "\n",
    "a = np.array([\n",
    "    [1.0, 2.0, 0.0, 0.0, 5.0],\n",
    "    [0.0, 0.0, -3.0, 4.0, 0.0],\n",
    "    [0.0, -2.0, 0.0, 0.0, -5.0],\n",
    "    [-1.0, 0.0, 0.0, -4.0, 0.0],\n",
    "    [0.0, 3.0, 0.0, 0.0, 6.0]])\n",
    "\n",
    "print a"
   ]
  },
  {
   "cell_type": "markdown",
   "metadata": {},
   "source": [
    "# Coordinate format (COO)\n",
    "Using *0-based* indices"
   ]
  },
  {
   "cell_type": "code",
   "execution_count": 12,
   "metadata": {},
   "outputs": [],
   "source": [
    "row_index = [3, 4, 0, 0, 4, 1, 3, 2, 2, 1, 0]\n",
    "col_index = [0, 1, 1, 0, 4, 2, 3, 4, 1, 3, 4]\n",
    "val = [-1.0, 3.0, 2.0, 1.0, 6.0, -3.0, -4.0, -5.0, -2.0, 4.0, 5.0]"
   ]
  },
  {
   "cell_type": "code",
   "execution_count": 16,
   "metadata": {},
   "outputs": [],
   "source": [
    "from scipy.sparse import coo_matrix\n",
    "a_coo_matrix((val,(row_index, col_index))).toarray()"
   ]
  },
  {
   "cell_type": "markdown",
   "metadata": {},
   "source": [
    "# Compressed Sparse Column (CSC)"
   ]
  },
  {
   "cell_type": "code",
   "execution_count": null,
   "metadata": {},
   "outputs": [],
   "source": []
  }
 ],
 "metadata": {
  "kernelspec": {
   "display_name": "Python 2",
   "language": "python",
   "name": "python2"
  },
  "language_info": {
   "codemirror_mode": {
    "name": "ipython",
    "version": 2
   },
   "file_extension": ".py",
   "mimetype": "text/x-python",
   "name": "python",
   "nbconvert_exporter": "python",
   "pygments_lexer": "ipython2",
   "version": "2.7.14"
  }
 },
 "nbformat": 4,
 "nbformat_minor": 2
}
